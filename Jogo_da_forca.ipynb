{
  "nbformat": 4,
  "nbformat_minor": 0,
  "metadata": {
    "colab": {
      "name": "Jogo_da_forca.ipynb",
      "provenance": [],
      "collapsed_sections": []
    },
    "kernelspec": {
      "name": "python3",
      "display_name": "Python 3"
    }
  },
  "cells": [
    {
      "cell_type": "code",
      "metadata": {
        "id": "HvcpjhUiaB85"
      },
      "source": [
        "#funções \n",
        "\n",
        "def RaizQuadrada(x,y):\n",
        "  return x**y"
      ],
      "execution_count": null,
      "outputs": []
    },
    {
      "cell_type": "code",
      "metadata": {
        "id": "OV9LasFOakUk",
        "outputId": "95770bdc-92de-42ee-c37e-a3ec8320da1a",
        "colab": {
          "base_uri": "https://localhost:8080/",
          "height": 34
        }
      },
      "source": [
        "RaizQuadrada(10,2) # pega o primeiro parametro e coloca elevado ao segundo parametro"
      ],
      "execution_count": null,
      "outputs": [
        {
          "output_type": "execute_result",
          "data": {
            "text/plain": [
              "100"
            ]
          },
          "metadata": {
            "tags": []
          },
          "execution_count": 2
        }
      ]
    },
    {
      "cell_type": "code",
      "metadata": {
        "id": "M-PulqGVa_bt"
      },
      "source": [
        "def Maiuscula(x):\n",
        "  return x.upper()"
      ],
      "execution_count": null,
      "outputs": []
    },
    {
      "cell_type": "code",
      "metadata": {
        "id": "6UcYPfEzbhJ1",
        "outputId": "9c7c2268-bfe3-4c5d-ce3b-3957fb87767c",
        "colab": {
          "base_uri": "https://localhost:8080/",
          "height": 35
        }
      },
      "source": [
        "Maiuscula(\"cristina pineda ribeiro de moura\")"
      ],
      "execution_count": null,
      "outputs": [
        {
          "output_type": "execute_result",
          "data": {
            "application/vnd.google.colaboratory.intrinsic+json": {
              "type": "string"
            },
            "text/plain": [
              "'CRISTINA PINEDA RIBEIRO DE MOURA'"
            ]
          },
          "metadata": {
            "tags": []
          },
          "execution_count": 4
        }
      ]
    },
    {
      "cell_type": "code",
      "metadata": {
        "id": "cl4pz1ArbuC2"
      },
      "source": [
        "def Soma(x,y,z):\n",
        "  return x+y+z"
      ],
      "execution_count": null,
      "outputs": []
    },
    {
      "cell_type": "code",
      "metadata": {
        "id": "8pcSeiFTdUtt",
        "outputId": "5a8ae648-402d-435c-d1e9-b79faf10dceb",
        "colab": {
          "base_uri": "https://localhost:8080/",
          "height": 34
        }
      },
      "source": [
        "Soma(23,45,67)"
      ],
      "execution_count": null,
      "outputs": [
        {
          "output_type": "execute_result",
          "data": {
            "text/plain": [
              "135"
            ]
          },
          "metadata": {
            "tags": []
          },
          "execution_count": 6
        }
      ]
    },
    {
      "cell_type": "code",
      "metadata": {
        "id": "7kY5958ddZST"
      },
      "source": [
        "def Positivo_negativo(x):\n",
        "  if x > 0:\n",
        "    return('P')\n",
        "  else:\n",
        "    return('N')"
      ],
      "execution_count": null,
      "outputs": []
    },
    {
      "cell_type": "code",
      "metadata": {
        "id": "1LME4tCHeO3i",
        "outputId": "5ff5fa6d-9b40-483f-89ad-ec2836f67e56",
        "colab": {
          "base_uri": "https://localhost:8080/",
          "height": 35
        }
      },
      "source": [
        "Positivo_negativo(-5)"
      ],
      "execution_count": null,
      "outputs": [
        {
          "output_type": "execute_result",
          "data": {
            "application/vnd.google.colaboratory.intrinsic+json": {
              "type": "string"
            },
            "text/plain": [
              "'N'"
            ]
          },
          "metadata": {
            "tags": []
          },
          "execution_count": 8
        }
      ]
    },
    {
      "cell_type": "code",
      "metadata": {
        "id": "kXRRYNMDfOk9"
      },
      "source": [
        "import random \n",
        "\n",
        "def get_word():\n",
        "  lista_palavras = ['gato', 'cachorro', 'lagarto','centopeia','aranha','onça', 'tamandua', 'macaco', 'jacaré', 'jiboia', 'avestruz', 'tartaruga', 'coruja', 'golfinho', 'baleia', 'minhoca', 'cobra', 'papagaio', 'ovelha', 'formiga', 'mosquito'] # insere um lista de provaveis palavras\n",
        "  word = random.choice(lista_palavras) # escolhe uma palavra aleatoriamente\n",
        "  return word.upper()"
      ],
      "execution_count": null,
      "outputs": []
    },
    {
      "cell_type": "markdown",
      "metadata": {
        "id": "NbDSkGMuzXGQ"
      },
      "source": [
        "## AQUI COMEÇA O JOGO!"
      ]
    },
    {
      "cell_type": "code",
      "metadata": {
        "id": "L4hWCt_zmgr7"
      },
      "source": [
        "def play(word):\n",
        "  word_completion = \"_\" * len(word)\n",
        "  guessed = False\n",
        "  guessed_letters = []\n",
        "  guessed_words = []\n",
        "  tries = 6\n",
        "  print(f\"JOGO DA FORCA!\\nDica: {len(word)} letras!\")\n",
        "  print(display_hangman(tries))\n",
        "  print(word_completion)\n",
        "  print(\"\\n\")\n",
        "  \n",
        "  while not guessed and tries > 0:\n",
        "      guess = input(\"Advinhe uma letra ou palavra: \").upper()\n",
        "      if len(guess) == 1 and guess.isalpha():\n",
        "          if guess in guessed_letters:\n",
        "              print(\"Você já tentou \", guess)\n",
        "          elif guess not in word:\n",
        "              print(guess, \"não\")\n",
        "              tries -= 1\n",
        "              guessed_letters.append(guess)\n",
        "          else:\n",
        "              print(guess, \"está na palavra!\")\n",
        "              guessed_letters.append(guess)\n",
        "              word_as_list = list(word_completion)\n",
        "              indices = [i for i, letter in enumerate(word) if letter == guess]\n",
        "              for index in indices:\n",
        "                  word_as_list[index] = guess\n",
        "              word_completion = \"\".join(word_as_list)\n",
        "              if \"_\" not in word_completion:\n",
        "                  guessed = True\n",
        "      elif len(guess) == len(word) and guess.isalpha():\n",
        "          if guess in guessed_words:\n",
        "              print(\"Você já tentou a palavra\", guess)\n",
        "          elif guess != word:\n",
        "              print(guess, \"não é a palavra\")\n",
        "              tries -= 1\n",
        "              guessed_words.append(guess)\n",
        "          else:\n",
        "              guessed = True\n",
        "              word_completion = word\n",
        "      else:\n",
        "          print(\"Inválido.\")\n",
        "      print(display_hangman(tries))\n",
        "      print(word_completion)\n",
        "      print('\\n')\n",
        "  if guessed:\n",
        "      print(\"Palarabéns você advinhou a palavra! Você venceu!\")\n",
        "  else:\n",
        "      print(\"Você perdeu! A palavra era \" + word + \".\")"
      ],
      "execution_count": null,
      "outputs": []
    },
    {
      "cell_type": "code",
      "metadata": {
        "id": "zuWMzl4IsVID"
      },
      "source": [
        "def display_hangman(tries):\n",
        "    stages = [# cabeça, tronco e braços e pernas: morte.\n",
        "              \"\"\"\n",
        "                ---------\n",
        "                |       |\n",
        "                |       O\n",
        "                |      \\|/\n",
        "                |       |\n",
        "                |      / \\\n",
        "                -\n",
        "              \"\"\",\n",
        "              # cabeça, tronco e braços e perna\n",
        "              \"\"\"\n",
        "                ---------\n",
        "                |       |\n",
        "                |       O\n",
        "                |      \\|/\n",
        "                |       |\n",
        "                |      /\n",
        "                -\n",
        "              \"\"\",\n",
        "              # cabeça, troco e braços\n",
        "              \"\"\"\n",
        "                ---------\n",
        "                |       |\n",
        "                |       O\n",
        "                |      \\|/\n",
        "                |       |\n",
        "                |      \n",
        "                -\n",
        "              \"\"\",\n",
        "              # cabeça, tronco e braço\n",
        "              \"\"\"\n",
        "                ---------\n",
        "                |       |\n",
        "                |       O\n",
        "                |      \\|\n",
        "                |       |\n",
        "                |      \n",
        "                -\n",
        "              \"\"\",\n",
        "              # cabeça e tronco \n",
        "              \"\"\"\n",
        "                ---------\n",
        "                |       |\n",
        "                |       O\n",
        "                |       |\n",
        "                |       |\n",
        "                |      \n",
        "                -\n",
        "              \"\"\",\n",
        "              # cabeça\n",
        "              \"\"\"\n",
        "                ---------\n",
        "                |       |\n",
        "                |       O\n",
        "                |      \n",
        "                |       \n",
        "                |      \n",
        "                -\n",
        "              \"\"\",\n",
        "              # vazio\n",
        "              \"\"\"\n",
        "                ---------\n",
        "                |       |\n",
        "                |       \n",
        "                |      \n",
        "                |       \n",
        "                |      \n",
        "                -\n",
        "              \"\"\",\n",
        "    ]\n",
        "    return stages[tries]"
      ],
      "execution_count": null,
      "outputs": []
    },
    {
      "cell_type": "code",
      "metadata": {
        "id": "SfCyVVVLvVz5",
        "outputId": "4113f945-34fa-4a07-9548-88c26a42be2c",
        "colab": {
          "base_uri": "https://localhost:8080/",
          "height": 748
        }
      },
      "source": [
        "def main():\n",
        "    word = get_word()\n",
        "    play(word)\n",
        "    while input(\"Jogar de novo? (S?N) \").upper() == \"S\":\n",
        "        word = get_word()\n",
        "        play(word)\n",
        "\n",
        "\n",
        "if __name__== \"__main__\":\n",
        "    main()"
      ],
      "execution_count": null,
      "outputs": [
        {
          "output_type": "stream",
          "text": [
            "JOGO DA FORCA!\n",
            "Dica: 7 letras!\n",
            "\n",
            "                ---------\n",
            "                |       |\n",
            "                |       \n",
            "                |      \n",
            "                |       \n",
            "                |      \n",
            "                -\n",
            "              \n",
            "_______\n",
            "\n",
            "\n",
            "Advinhe uma letra ou palavra: A\n",
            "A está na palavra!\n",
            "\n",
            "                ---------\n",
            "                |       |\n",
            "                |       \n",
            "                |      \n",
            "                |       \n",
            "                |      \n",
            "                -\n",
            "              \n",
            "_A_A___\n",
            "\n",
            "\n",
            "Advinhe uma letra ou palavra: LAGARTO\n",
            "\n",
            "                ---------\n",
            "                |       |\n",
            "                |       \n",
            "                |      \n",
            "                |       \n",
            "                |      \n",
            "                -\n",
            "              \n",
            "LAGARTO\n",
            "\n",
            "\n",
            "Palarabéns você advinhou a palavra! Você venceu!\n",
            "Jogar de novo? (S?N) N\n"
          ],
          "name": "stdout"
        }
      ]
    }
  ]
}